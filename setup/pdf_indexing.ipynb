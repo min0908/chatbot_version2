{
 "cells": [
  {
   "cell_type": "markdown",
   "metadata": {},
   "source": [
    "### pdf_indexing.ipynb\n",
    "- 미국 국립암센터에서 가져온 pdf 파일들(lung cancer, breast cancer)을 전처리하고 미리 인덱싱해서 저장해놓기"
   ]
  },
  {
   "cell_type": "code",
   "execution_count": 1,
   "metadata": {},
   "outputs": [],
   "source": [
    "import os\n",
    "from dotenv import load_dotenv\n",
    "import pickle\n",
    "import faiss\n",
    "import numpy as np\n",
    "from langchain.embeddings import OpenAIEmbeddings\n",
    "from langchain.text_splitter import RecursiveCharacterTextSplitter\n",
    "from langchain.schema import Document\n",
    "import re\n",
    "import os\n",
    "from langchain_community.document_loaders import PDFPlumberLoader\n",
    "from langchain_community.vectorstores import FAISS"
   ]
  },
  {
   "cell_type": "code",
   "execution_count": 2,
   "metadata": {},
   "outputs": [
    {
     "data": {
      "text/plain": [
       "True"
      ]
     },
     "execution_count": 2,
     "metadata": {},
     "output_type": "execute_result"
    }
   ],
   "source": [
    "load_dotenv()  # 환경변수 설정"
   ]
  },
  {
   "cell_type": "code",
   "execution_count": 3,
   "metadata": {},
   "outputs": [],
   "source": [
    "# 함수 정의\n",
    "def remove_newlines_except_after_period(text):\n",
    "    \"\"\"마침표 다음의 줄바꿈을 제외한 모든 줄바꿈을 제거\"\"\"\n",
    "    return re.sub(r'(?<!\\.)(\\n|\\r\\n)', ' ', text)\n",
    "\n",
    "\n",
    "def save_vectorstore_with_documents(file_paths,vectorstore_path):\n",
    "    \"\"\"PDF 파일을 전처리하고 벡터스토어와 문서를 로컬에 저장하기\"\"\"\n",
    "    all_docs=[]\n",
    "    for file_path in file_paths:\n",
    "        if os.path.exists(file_path):\n",
    "            # 1.  문서 로딩\n",
    "            loader = PDFPlumberLoader(file_path)\n",
    "            docs = loader.load()            \n",
    "            for doc in docs:\n",
    "            # page_content에 대해 줄바꿈 처리 후 다시 할당\n",
    "                doc.page_content = remove_newlines_except_after_period(doc.page_content)\n",
    "            all_docs.extend(docs)\n",
    "        else:\n",
    "            print(f\"파일을 찾을 수 없습니다: {file_path}\")\n",
    "    \n",
    "    # 2. 문서 분할\n",
    "    text_splitter = RecursiveCharacterTextSplitter(chunk_size=1000, chunk_overlap=50)\n",
    "    split_documents = text_splitter.split_documents(all_docs)\n",
    "\n",
    "    # 3. embedding 생성\n",
    "    embeddings = OpenAIEmbeddings()\n",
    "\n",
    "    # 4. 벡터스토어 생성하고 저장(retriever도 저장)\n",
    "    vectorstore = FAISS.from_documents(documents=split_documents, embedding=embeddings)\n",
    "    vectorstore.save_local(vectorstore_path)\n",
    "    \n",
    "\n",
    "    #5. 분할된 문서도 같이 저장\n",
    "    document_paths = os.path.join(vectorstore_path, \"documents.pkl\")\n",
    "    with open(document_paths, 'wb') as f:\n",
    "        pickle.dump(split_documents, f)\n",
    "    \n",
    "    return vectorstore"
   ]
  },
  {
   "cell_type": "code",
   "execution_count": 5,
   "metadata": {},
   "outputs": [],
   "source": [
    "file_paths = [\"./NCI_breast_removed.pdf\", \"./NCI_lung_removed.pdf\"] \n",
    "vectorstore_path = \".cache/embeddings/faiss_index.index\"  # 저장할  경로\n",
    "vectorstore = save_vectorstore_with_documents(file_paths,vectorstore_path)"
   ]
  },
  {
   "cell_type": "code",
   "execution_count": 6,
   "metadata": {},
   "outputs": [],
   "source": [
    "vectorstore = FAISS.load_local(vectorstore_path, OpenAIEmbeddings(),allow_dangerous_deserialization=True)\n",
    "query = \"페암인가요?\"\n",
    "query_embedding = OpenAIEmbeddings().embed_query(query)\n",
    "query_embedding = np.array(query_embedding)\n",
    "query_embedding = query_embedding.reshape(1, -1)"
   ]
  },
  {
   "cell_type": "code",
   "execution_count": 12,
   "metadata": {},
   "outputs": [],
   "source": [
    "D, I = vectorstore.index.search(query_embedding, k=4)"
   ]
  },
  {
   "cell_type": "code",
   "execution_count": 13,
   "metadata": {},
   "outputs": [
    {
     "data": {
      "text/plain": [
       "array([[0.60662174, 0.6164737 , 0.61733055, 0.6183497 ]], dtype=float32)"
      ]
     },
     "execution_count": 13,
     "metadata": {},
     "output_type": "execute_result"
    }
   ],
   "source": [
    "D"
   ]
  },
  {
   "cell_type": "code",
   "execution_count": 14,
   "metadata": {},
   "outputs": [
    {
     "data": {
      "text/plain": [
       "array([[ 62, 371, 376,  30]], dtype=int64)"
      ]
     },
     "execution_count": 14,
     "metadata": {},
     "output_type": "execute_result"
    }
   ],
   "source": [
    "I"
   ]
  },
  {
   "cell_type": "code",
   "execution_count": 15,
   "metadata": {},
   "outputs": [],
   "source": [
    "document_paths = os.path.join(vectorstore_path, \"documents.pkl\")\n",
    "with open(document_paths, 'rb') as f:\n",
    "    documents = pickle.load(f)"
   ]
  },
  {
   "cell_type": "code",
   "execution_count": 16,
   "metadata": {},
   "outputs": [
    {
     "name": "stdout",
     "output_type": "stream",
     "text": [
      "문서: New types of treatment are being tested in clinical trials.\n",
      "문서: Genetic counseling for children with pleuropulmonary blastoma It may not be clear from the family medical history whether your child's pleuropulmonary blastoma is part of an inherited condition related to a change in the DICER1 gene. Genetic counseling can assess the likelihood that your child's cancer is inherited and whether\n",
      "문서: PET scan (positron emission tomography scan) A PET scan uses a small amount of radioactive sugar (also called radioactive glucose) injected into a vein. Then the PET scanner rotates around the body to make detailed, computerized pictures of areas inside the body where the glucose is taken up. Because cancer cells often take up more glucose than normal cells, the pictures can be used to \u0000nd cancer cells in the body.\n",
      "Positron emission tomography (PET) scan. The child lies on a table that slides through the PET scanner. The head rest and white strap help the child lie still. A small amount of radioactive glucose (sugar) is injected into the child's vein, and a scanner makes a picture of where the glucose is being used in the body. Cancer cells show up brighter in the picture because they take up more glucose than normal cells do.\n",
      "문서: • Tis (Paget disease): Paget disease of the nipple is a condition in which abnormal cells are found in the skin cells of the nipple and may spread to the areola. It is not staged according to the TNM system. If Paget disease AND an invasive breast cancer are present, the TNM system is used to stage the invasive breast cancer.\n"
     ]
    }
   ],
   "source": [
    "# 4. 검색된 문서 내용 출력\n",
    "for idx in I[0]:\n",
    "    print(f\"문서: {documents[idx].page_content}\")"
   ]
  },
  {
   "cell_type": "code",
   "execution_count": null,
   "metadata": {},
   "outputs": [],
   "source": []
  }
 ],
 "metadata": {
  "kernelspec": {
   "display_name": "base",
   "language": "python",
   "name": "python3"
  },
  "language_info": {
   "codemirror_mode": {
    "name": "ipython",
    "version": 3
   },
   "file_extension": ".py",
   "mimetype": "text/x-python",
   "name": "python",
   "nbconvert_exporter": "python",
   "pygments_lexer": "ipython3",
   "version": "3.12.7"
  }
 },
 "nbformat": 4,
 "nbformat_minor": 2
}
